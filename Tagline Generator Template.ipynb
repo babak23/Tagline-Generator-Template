{
  "cells": [
    {
      "cell_type": "markdown",
      "id": "FLmq71RMSLuLzwQ2JWIKljQ3",
      "metadata": {
        "id": "FLmq71RMSLuLzwQ2JWIKljQ3",
        "tags": []
      },
      "source": [
        "1. Install the Vertex AI SDK: Open a terminal window and enter the command below. You can also [install it in a virtualenv](https://googleapis.dev/python/aiplatform/latest/index.html)"
      ]
    },
    {
      "cell_type": "code",
      "execution_count": null,
      "id": "xuIIwqHLYDACVF1x7tFFd2eS",
      "metadata": {
        "colab": {
          "base_uri": "https://localhost:8080/"
        },
        "executionInfo": {
          "elapsed": 4631,
          "status": "ok",
          "timestamp": 1729672574964,
          "user": {
            "displayName": "",
            "userId": ""
          },
          "user_tz": -210
        },
        "id": "xuIIwqHLYDACVF1x7tFFd2eS",
        "outputId": "06024bc1-05a7-45a7-dc4a-38fcebc610e7",
        "tags": []
      },
      "outputs": [],
      "source": [
        "!pip install --upgrade google-cloud-aiplatform"
      ]
    },
    {
      "cell_type": "markdown",
      "id": "w9nlzJPkIS1WNFRBA6PzLggt",
      "metadata": {
        "id": "w9nlzJPkIS1WNFRBA6PzLggt",
        "tags": []
      },
      "source": [
        "2. Use the following code in your application to request a model response"
      ]
    },
    {
      "cell_type": "code",
      "execution_count": null,
      "id": "CghUkercU8O5u2xMkHcqrSyy",
      "metadata": {
        "colab": {
          "base_uri": "https://localhost:8080/"
        },
        "executionInfo": {
          "elapsed": 12592,
          "status": "ok",
          "timestamp": 1729672597038,
          "user": {
            "displayName": "",
            "userId": ""
          },
          "user_tz": -210
        },
        "id": "CghUkercU8O5u2xMkHcqrSyy",
        "outputId": "2a9a3a08-a03d-4708-97c7-9ef3654057e6",
        "tags": []
      },
      "outputs": [],
      "source": [
        "import base64\n",
        "import vertexai\n",
        "from vertexai.generative_models import GenerativeModel, Part, SafetySetting\n",
        "\n",
        "\n",
        "def generate():\n",
        "    vertexai.init(project=\"qwiklabs-gcp-03-6d64bccc72c9\", location=\"us-central1\")\n",
        "    model = GenerativeModel(\n",
        "        \"gemini-1.5-pro-002\",\n",
        "        system_instruction=[textsi_1]\n",
        "    )\n",
        "    responses = model.generate_content(\n",
        "        [text1],\n",
        "        generation_config=generation_config,\n",
        "        safety_settings=safety_settings,\n",
        "        stream=True,\n",
        "    )\n",
        "\n",
        "    for response in responses:\n",
        "        print(response.text, end=\"\")\n",
        "\n",
        "text1 = \"\"\"input: Write a tagline for a durable backpack designed for hikers that makes them feel prepared. Consider styles like minimalist.\n",
        "output: Built for the Journey: Your Adventure Essentials.\n",
        "\n",
        "input: Write some of the advantages of adventure in nature.\n",
        "output: It\\'s great for your health.\n",
        "\n",
        "\n",
        "input: create some taglines for some essential gears for adventures in nature. the target audience of these gears are mostly young peoples of families. The taglines should encourage power and teamwork.\n",
        "output:\"\"\"\n",
        "textsi_1 = \"\"\"Cymbal Direct is partnering with an outdoor gear retailer. They\\'re launching a new line of products designed to encourage young people to explore the outdoors. Help them create catchy taglines for this product line.\"\"\"\n",
        "\n",
        "generation_config = {\n",
        "    \"max_output_tokens\": 8192,\n",
        "    \"temperature\": 1,\n",
        "    \"top_p\": 0.95,\n",
        "}\n",
        "\n",
        "safety_settings = [\n",
        "    SafetySetting(\n",
        "        category=SafetySetting.HarmCategory.HARM_CATEGORY_HATE_SPEECH,\n",
        "        threshold=SafetySetting.HarmBlockThreshold.OFF\n",
        "    ),\n",
        "    SafetySetting(\n",
        "        category=SafetySetting.HarmCategory.HARM_CATEGORY_DANGEROUS_CONTENT,\n",
        "        threshold=SafetySetting.HarmBlockThreshold.OFF\n",
        "    ),\n",
        "    SafetySetting(\n",
        "        category=SafetySetting.HarmCategory.HARM_CATEGORY_SEXUALLY_EXPLICIT,\n",
        "        threshold=SafetySetting.HarmBlockThreshold.OFF\n",
        "    ),\n",
        "    SafetySetting(\n",
        "        category=SafetySetting.HarmCategory.HARM_CATEGORY_HARASSMENT,\n",
        "        threshold=SafetySetting.HarmBlockThreshold.OFF\n",
        "    ),\n",
        "]\n",
        "\n",
        "generate()"
      ]
    }
  ],
  "metadata": {
    "colab": {
      "name": "Cymbal Tagline Generator Template Oct 23, 2024, 12:02:34 PM",
      "provenance": []
    },
    "kernelspec": {
      "display_name": "Python 3",
      "language": "python",
      "name": "python3"
    },
    "language_info": {
      "codemirror_mode": {
        "name": "ipython",
        "version": 3
      },
      "file_extension": ".py",
      "mimetype": "text/x-python",
      "name": "python",
      "nbconvert_exporter": "python",
      "pygments_lexer": "ipython3",
      "version": "3.10.10"
    }
  },
  "nbformat": 4,
  "nbformat_minor": 5
}
